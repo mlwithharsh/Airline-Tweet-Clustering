{
 "cells": [
  {
   "metadata": {},
   "cell_type": "markdown",
   "source": "## Project Title: Clusterogram – Unsupervised Learning on Airline Tweets",
   "id": "5f29943555629893"
  },
  {
   "metadata": {},
   "cell_type": "markdown",
   "source": [
    "## Description:\n",
    "Clusterogram is an unsupervised machine learning project that applies clustering algorithms to real-world social media data. Using tweet data from airline passengers, the project aims to identify hidden groupings or sentiment-based clusters within the dataset without using labeled outcomes.\n",
    "\n",
    "The project performs advanced text preprocessing, vectorization (TF-IDF), and applies KMeans and Agglomerative Clustering to extract meaningful patterns. Dimensionality reduction techniques like PCA are used to visualize the cluster structure, and silhouette scores are used to evaluate clustering performance."
   ],
   "id": "d56cfb5fb335a686"
  },
  {
   "metadata": {},
   "cell_type": "markdown",
   "source": [
    "## 🎯 Objectives:\n",
    "Discover natural groupings in tweet data based on airline and sentiment\n",
    "\n",
    "Evaluate and compare clustering performance using silhouette scores\n",
    "\n",
    "Explore high-dimensional NLP data in a fully unsupervised way\n",
    "\n",
    "Learn the trade-offs between Elbow vs Silhouette in cluster selection"
   ],
   "id": "41b8f970690de57d"
  },
  {
   "metadata": {},
   "cell_type": "markdown",
   "source": [
    "## Key Features:\n",
    "1. ✅ Real-world dataset: Airline tweets from customers\n",
    "\n",
    "2. 🧹 Data cleaning & preprocessing (text, missing values)\n",
    "\n",
    "3. ✏️ TF-IDF vectorization for natural language features\n",
    "\n",
    "4. 📊 Standardization & Label Encoding of non-text features\n",
    "\n",
    "5. 📉 Dimensionality Reduction using PCA\n",
    "\n",
    "6. 🔗 Implemented KMeans and Agglomerative Clustering\n",
    "\n",
    "7. 📈 Used Elbow Method & Silhouette Score for cluster evaluation\n",
    "\n",
    "8. 🎨 Visualized clusters in 2D using PCA scatter plots\n",
    "\n"
   ],
   "id": "bb5edc916b193cc5"
  },
  {
   "metadata": {
    "ExecuteTime": {
     "end_time": "2025-07-15T05:23:24.059090Z",
     "start_time": "2025-07-15T05:23:24.055875Z"
    }
   },
   "cell_type": "code",
   "source": [
    "import pandas as pd\n",
    "import zipfile"
   ],
   "id": "3a705feb5c8cf53d",
   "outputs": [],
   "execution_count": 1
  },
  {
   "metadata": {},
   "cell_type": "markdown",
   "source": "## IMPORTING CSV DATA FILE IN ZIP FOLDER",
   "id": "ed2c0a6d7816b951"
  },
  {
   "cell_type": "code",
   "id": "initial_id",
   "metadata": {
    "collapsed": true,
    "ExecuteTime": {
     "end_time": "2025-07-15T05:23:26.232841Z",
     "start_time": "2025-07-15T05:23:26.135441Z"
    }
   },
   "source": [
    "# to import a csv file\n",
    "# df = pd.read_csv('file_name')\n",
    "# I am using zip extraction method to extract data\n",
    "zip_path = r\"C:\\Users\\Harsh Sharma\\Downloads\\Tweets.csv.zip\"\n",
    "\n",
    "# Open the ZIP file\n",
    "with zipfile.ZipFile(zip_path, 'r') as zip_ref:\n",
    "    # List all files inside the ZIP\n",
    "    print(\"Tweets.csv.zip loaded:\")\n",
    "    print(zip_ref.namelist())  # <-- Look at this output to find the exact CSV name\n",
    "\n",
    "    # Use the exact CSV filename from the list\n",
    "    csv_file_name = 'Tweets.csv'  # <-- Replace with the actual CSV name inside ZIP\n",
    "\n",
    "    # Read CSV from ZIP without extracting\n",
    "    with zip_ref.open(csv_file_name) as f:\n",
    "        df = pd.read_csv(f)\n",
    "        print(df.head(3))"
   ],
   "outputs": [
    {
     "name": "stdout",
     "output_type": "stream",
     "text": [
      "Tweets.csv.zip loaded:\n",
      "['Tweets.csv']\n",
      "             tweet_id airline_sentiment  airline_sentiment_confidence  \\\n",
      "0  570306133677760513           neutral                        1.0000   \n",
      "1  570301130888122368          positive                        0.3486   \n",
      "2  570301083672813571           neutral                        0.6837   \n",
      "\n",
      "  negativereason  negativereason_confidence         airline  \\\n",
      "0            NaN                        NaN  Virgin America   \n",
      "1            NaN                        0.0  Virgin America   \n",
      "2            NaN                        NaN  Virgin America   \n",
      "\n",
      "  airline_sentiment_gold        name negativereason_gold  retweet_count  \\\n",
      "0                    NaN     cairdin                 NaN              0   \n",
      "1                    NaN    jnardino                 NaN              0   \n",
      "2                    NaN  yvonnalynn                 NaN              0   \n",
      "\n",
      "                                                text tweet_coord  \\\n",
      "0                @VirginAmerica What @dhepburn said.         NaN   \n",
      "1  @VirginAmerica plus you've added commercials t...         NaN   \n",
      "2  @VirginAmerica I didn't today... Must mean I n...         NaN   \n",
      "\n",
      "               tweet_created tweet_location               user_timezone  \n",
      "0  2015-02-24 11:35:52 -0800            NaN  Eastern Time (US & Canada)  \n",
      "1  2015-02-24 11:15:59 -0800            NaN  Pacific Time (US & Canada)  \n",
      "2  2015-02-24 11:15:48 -0800      Lets Play  Central Time (US & Canada)  \n"
     ]
    }
   ],
   "execution_count": 2
  },
  {
   "metadata": {
    "ExecuteTime": {
     "end_time": "2025-07-15T05:23:30.828245Z",
     "start_time": "2025-07-15T05:23:30.806982Z"
    }
   },
   "cell_type": "code",
   "source": "df",
   "id": "dd1802ab3723ed03",
   "outputs": [
    {
     "data": {
      "text/plain": [
       "                 tweet_id airline_sentiment  airline_sentiment_confidence  \\\n",
       "0      570306133677760513           neutral                        1.0000   \n",
       "1      570301130888122368          positive                        0.3486   \n",
       "2      570301083672813571           neutral                        0.6837   \n",
       "3      570301031407624196          negative                        1.0000   \n",
       "4      570300817074462722          negative                        1.0000   \n",
       "...                   ...               ...                           ...   \n",
       "14635  569587686496825344          positive                        0.3487   \n",
       "14636  569587371693355008          negative                        1.0000   \n",
       "14637  569587242672398336           neutral                        1.0000   \n",
       "14638  569587188687634433          negative                        1.0000   \n",
       "14639  569587140490866689           neutral                        0.6771   \n",
       "\n",
       "               negativereason  negativereason_confidence         airline  \\\n",
       "0                         NaN                        NaN  Virgin America   \n",
       "1                         NaN                     0.0000  Virgin America   \n",
       "2                         NaN                        NaN  Virgin America   \n",
       "3                  Bad Flight                     0.7033  Virgin America   \n",
       "4                  Can't Tell                     1.0000  Virgin America   \n",
       "...                       ...                        ...             ...   \n",
       "14635                     NaN                     0.0000        American   \n",
       "14636  Customer Service Issue                     1.0000        American   \n",
       "14637                     NaN                        NaN        American   \n",
       "14638  Customer Service Issue                     0.6659        American   \n",
       "14639                     NaN                     0.0000        American   \n",
       "\n",
       "      airline_sentiment_gold             name negativereason_gold  \\\n",
       "0                        NaN          cairdin                 NaN   \n",
       "1                        NaN         jnardino                 NaN   \n",
       "2                        NaN       yvonnalynn                 NaN   \n",
       "3                        NaN         jnardino                 NaN   \n",
       "4                        NaN         jnardino                 NaN   \n",
       "...                      ...              ...                 ...   \n",
       "14635                    NaN  KristenReenders                 NaN   \n",
       "14636                    NaN         itsropes                 NaN   \n",
       "14637                    NaN         sanyabun                 NaN   \n",
       "14638                    NaN       SraJackson                 NaN   \n",
       "14639                    NaN        daviddtwu                 NaN   \n",
       "\n",
       "       retweet_count                                               text  \\\n",
       "0                  0                @VirginAmerica What @dhepburn said.   \n",
       "1                  0  @VirginAmerica plus you've added commercials t...   \n",
       "2                  0  @VirginAmerica I didn't today... Must mean I n...   \n",
       "3                  0  @VirginAmerica it's really aggressive to blast...   \n",
       "4                  0  @VirginAmerica and it's a really big bad thing...   \n",
       "...              ...                                                ...   \n",
       "14635              0  @AmericanAir thank you we got on a different f...   \n",
       "14636              0  @AmericanAir leaving over 20 minutes Late Flig...   \n",
       "14637              0  @AmericanAir Please bring American Airlines to...   \n",
       "14638              0  @AmericanAir you have my money, you change my ...   \n",
       "14639              0  @AmericanAir we have 8 ppl so we need 2 know h...   \n",
       "\n",
       "      tweet_coord              tweet_created tweet_location  \\\n",
       "0             NaN  2015-02-24 11:35:52 -0800            NaN   \n",
       "1             NaN  2015-02-24 11:15:59 -0800            NaN   \n",
       "2             NaN  2015-02-24 11:15:48 -0800      Lets Play   \n",
       "3             NaN  2015-02-24 11:15:36 -0800            NaN   \n",
       "4             NaN  2015-02-24 11:14:45 -0800            NaN   \n",
       "...           ...                        ...            ...   \n",
       "14635         NaN  2015-02-22 12:01:01 -0800            NaN   \n",
       "14636         NaN  2015-02-22 11:59:46 -0800          Texas   \n",
       "14637         NaN  2015-02-22 11:59:15 -0800  Nigeria,lagos   \n",
       "14638         NaN  2015-02-22 11:59:02 -0800     New Jersey   \n",
       "14639         NaN  2015-02-22 11:58:51 -0800     dallas, TX   \n",
       "\n",
       "                    user_timezone  \n",
       "0      Eastern Time (US & Canada)  \n",
       "1      Pacific Time (US & Canada)  \n",
       "2      Central Time (US & Canada)  \n",
       "3      Pacific Time (US & Canada)  \n",
       "4      Pacific Time (US & Canada)  \n",
       "...                           ...  \n",
       "14635                         NaN  \n",
       "14636                         NaN  \n",
       "14637                         NaN  \n",
       "14638  Eastern Time (US & Canada)  \n",
       "14639                         NaN  \n",
       "\n",
       "[14640 rows x 15 columns]"
      ],
      "text/html": [
       "<div>\n",
       "<style scoped>\n",
       "    .dataframe tbody tr th:only-of-type {\n",
       "        vertical-align: middle;\n",
       "    }\n",
       "\n",
       "    .dataframe tbody tr th {\n",
       "        vertical-align: top;\n",
       "    }\n",
       "\n",
       "    .dataframe thead th {\n",
       "        text-align: right;\n",
       "    }\n",
       "</style>\n",
       "<table border=\"1\" class=\"dataframe\">\n",
       "  <thead>\n",
       "    <tr style=\"text-align: right;\">\n",
       "      <th></th>\n",
       "      <th>tweet_id</th>\n",
       "      <th>airline_sentiment</th>\n",
       "      <th>airline_sentiment_confidence</th>\n",
       "      <th>negativereason</th>\n",
       "      <th>negativereason_confidence</th>\n",
       "      <th>airline</th>\n",
       "      <th>airline_sentiment_gold</th>\n",
       "      <th>name</th>\n",
       "      <th>negativereason_gold</th>\n",
       "      <th>retweet_count</th>\n",
       "      <th>text</th>\n",
       "      <th>tweet_coord</th>\n",
       "      <th>tweet_created</th>\n",
       "      <th>tweet_location</th>\n",
       "      <th>user_timezone</th>\n",
       "    </tr>\n",
       "  </thead>\n",
       "  <tbody>\n",
       "    <tr>\n",
       "      <th>0</th>\n",
       "      <td>570306133677760513</td>\n",
       "      <td>neutral</td>\n",
       "      <td>1.0000</td>\n",
       "      <td>NaN</td>\n",
       "      <td>NaN</td>\n",
       "      <td>Virgin America</td>\n",
       "      <td>NaN</td>\n",
       "      <td>cairdin</td>\n",
       "      <td>NaN</td>\n",
       "      <td>0</td>\n",
       "      <td>@VirginAmerica What @dhepburn said.</td>\n",
       "      <td>NaN</td>\n",
       "      <td>2015-02-24 11:35:52 -0800</td>\n",
       "      <td>NaN</td>\n",
       "      <td>Eastern Time (US &amp; Canada)</td>\n",
       "    </tr>\n",
       "    <tr>\n",
       "      <th>1</th>\n",
       "      <td>570301130888122368</td>\n",
       "      <td>positive</td>\n",
       "      <td>0.3486</td>\n",
       "      <td>NaN</td>\n",
       "      <td>0.0000</td>\n",
       "      <td>Virgin America</td>\n",
       "      <td>NaN</td>\n",
       "      <td>jnardino</td>\n",
       "      <td>NaN</td>\n",
       "      <td>0</td>\n",
       "      <td>@VirginAmerica plus you've added commercials t...</td>\n",
       "      <td>NaN</td>\n",
       "      <td>2015-02-24 11:15:59 -0800</td>\n",
       "      <td>NaN</td>\n",
       "      <td>Pacific Time (US &amp; Canada)</td>\n",
       "    </tr>\n",
       "    <tr>\n",
       "      <th>2</th>\n",
       "      <td>570301083672813571</td>\n",
       "      <td>neutral</td>\n",
       "      <td>0.6837</td>\n",
       "      <td>NaN</td>\n",
       "      <td>NaN</td>\n",
       "      <td>Virgin America</td>\n",
       "      <td>NaN</td>\n",
       "      <td>yvonnalynn</td>\n",
       "      <td>NaN</td>\n",
       "      <td>0</td>\n",
       "      <td>@VirginAmerica I didn't today... Must mean I n...</td>\n",
       "      <td>NaN</td>\n",
       "      <td>2015-02-24 11:15:48 -0800</td>\n",
       "      <td>Lets Play</td>\n",
       "      <td>Central Time (US &amp; Canada)</td>\n",
       "    </tr>\n",
       "    <tr>\n",
       "      <th>3</th>\n",
       "      <td>570301031407624196</td>\n",
       "      <td>negative</td>\n",
       "      <td>1.0000</td>\n",
       "      <td>Bad Flight</td>\n",
       "      <td>0.7033</td>\n",
       "      <td>Virgin America</td>\n",
       "      <td>NaN</td>\n",
       "      <td>jnardino</td>\n",
       "      <td>NaN</td>\n",
       "      <td>0</td>\n",
       "      <td>@VirginAmerica it's really aggressive to blast...</td>\n",
       "      <td>NaN</td>\n",
       "      <td>2015-02-24 11:15:36 -0800</td>\n",
       "      <td>NaN</td>\n",
       "      <td>Pacific Time (US &amp; Canada)</td>\n",
       "    </tr>\n",
       "    <tr>\n",
       "      <th>4</th>\n",
       "      <td>570300817074462722</td>\n",
       "      <td>negative</td>\n",
       "      <td>1.0000</td>\n",
       "      <td>Can't Tell</td>\n",
       "      <td>1.0000</td>\n",
       "      <td>Virgin America</td>\n",
       "      <td>NaN</td>\n",
       "      <td>jnardino</td>\n",
       "      <td>NaN</td>\n",
       "      <td>0</td>\n",
       "      <td>@VirginAmerica and it's a really big bad thing...</td>\n",
       "      <td>NaN</td>\n",
       "      <td>2015-02-24 11:14:45 -0800</td>\n",
       "      <td>NaN</td>\n",
       "      <td>Pacific Time (US &amp; Canada)</td>\n",
       "    </tr>\n",
       "    <tr>\n",
       "      <th>...</th>\n",
       "      <td>...</td>\n",
       "      <td>...</td>\n",
       "      <td>...</td>\n",
       "      <td>...</td>\n",
       "      <td>...</td>\n",
       "      <td>...</td>\n",
       "      <td>...</td>\n",
       "      <td>...</td>\n",
       "      <td>...</td>\n",
       "      <td>...</td>\n",
       "      <td>...</td>\n",
       "      <td>...</td>\n",
       "      <td>...</td>\n",
       "      <td>...</td>\n",
       "      <td>...</td>\n",
       "    </tr>\n",
       "    <tr>\n",
       "      <th>14635</th>\n",
       "      <td>569587686496825344</td>\n",
       "      <td>positive</td>\n",
       "      <td>0.3487</td>\n",
       "      <td>NaN</td>\n",
       "      <td>0.0000</td>\n",
       "      <td>American</td>\n",
       "      <td>NaN</td>\n",
       "      <td>KristenReenders</td>\n",
       "      <td>NaN</td>\n",
       "      <td>0</td>\n",
       "      <td>@AmericanAir thank you we got on a different f...</td>\n",
       "      <td>NaN</td>\n",
       "      <td>2015-02-22 12:01:01 -0800</td>\n",
       "      <td>NaN</td>\n",
       "      <td>NaN</td>\n",
       "    </tr>\n",
       "    <tr>\n",
       "      <th>14636</th>\n",
       "      <td>569587371693355008</td>\n",
       "      <td>negative</td>\n",
       "      <td>1.0000</td>\n",
       "      <td>Customer Service Issue</td>\n",
       "      <td>1.0000</td>\n",
       "      <td>American</td>\n",
       "      <td>NaN</td>\n",
       "      <td>itsropes</td>\n",
       "      <td>NaN</td>\n",
       "      <td>0</td>\n",
       "      <td>@AmericanAir leaving over 20 minutes Late Flig...</td>\n",
       "      <td>NaN</td>\n",
       "      <td>2015-02-22 11:59:46 -0800</td>\n",
       "      <td>Texas</td>\n",
       "      <td>NaN</td>\n",
       "    </tr>\n",
       "    <tr>\n",
       "      <th>14637</th>\n",
       "      <td>569587242672398336</td>\n",
       "      <td>neutral</td>\n",
       "      <td>1.0000</td>\n",
       "      <td>NaN</td>\n",
       "      <td>NaN</td>\n",
       "      <td>American</td>\n",
       "      <td>NaN</td>\n",
       "      <td>sanyabun</td>\n",
       "      <td>NaN</td>\n",
       "      <td>0</td>\n",
       "      <td>@AmericanAir Please bring American Airlines to...</td>\n",
       "      <td>NaN</td>\n",
       "      <td>2015-02-22 11:59:15 -0800</td>\n",
       "      <td>Nigeria,lagos</td>\n",
       "      <td>NaN</td>\n",
       "    </tr>\n",
       "    <tr>\n",
       "      <th>14638</th>\n",
       "      <td>569587188687634433</td>\n",
       "      <td>negative</td>\n",
       "      <td>1.0000</td>\n",
       "      <td>Customer Service Issue</td>\n",
       "      <td>0.6659</td>\n",
       "      <td>American</td>\n",
       "      <td>NaN</td>\n",
       "      <td>SraJackson</td>\n",
       "      <td>NaN</td>\n",
       "      <td>0</td>\n",
       "      <td>@AmericanAir you have my money, you change my ...</td>\n",
       "      <td>NaN</td>\n",
       "      <td>2015-02-22 11:59:02 -0800</td>\n",
       "      <td>New Jersey</td>\n",
       "      <td>Eastern Time (US &amp; Canada)</td>\n",
       "    </tr>\n",
       "    <tr>\n",
       "      <th>14639</th>\n",
       "      <td>569587140490866689</td>\n",
       "      <td>neutral</td>\n",
       "      <td>0.6771</td>\n",
       "      <td>NaN</td>\n",
       "      <td>0.0000</td>\n",
       "      <td>American</td>\n",
       "      <td>NaN</td>\n",
       "      <td>daviddtwu</td>\n",
       "      <td>NaN</td>\n",
       "      <td>0</td>\n",
       "      <td>@AmericanAir we have 8 ppl so we need 2 know h...</td>\n",
       "      <td>NaN</td>\n",
       "      <td>2015-02-22 11:58:51 -0800</td>\n",
       "      <td>dallas, TX</td>\n",
       "      <td>NaN</td>\n",
       "    </tr>\n",
       "  </tbody>\n",
       "</table>\n",
       "<p>14640 rows × 15 columns</p>\n",
       "</div>"
      ]
     },
     "execution_count": 3,
     "metadata": {},
     "output_type": "execute_result"
    }
   ],
   "execution_count": 3
  },
  {
   "metadata": {
    "ExecuteTime": {
     "end_time": "2025-07-15T05:23:32.077991Z",
     "start_time": "2025-07-15T05:23:32.071378Z"
    }
   },
   "cell_type": "code",
   "source": "df.info",
   "id": "35f4ee3a976f2a23",
   "outputs": [
    {
     "data": {
      "text/plain": [
       "<bound method DataFrame.info of                  tweet_id airline_sentiment  airline_sentiment_confidence  \\\n",
       "0      570306133677760513           neutral                        1.0000   \n",
       "1      570301130888122368          positive                        0.3486   \n",
       "2      570301083672813571           neutral                        0.6837   \n",
       "3      570301031407624196          negative                        1.0000   \n",
       "4      570300817074462722          negative                        1.0000   \n",
       "...                   ...               ...                           ...   \n",
       "14635  569587686496825344          positive                        0.3487   \n",
       "14636  569587371693355008          negative                        1.0000   \n",
       "14637  569587242672398336           neutral                        1.0000   \n",
       "14638  569587188687634433          negative                        1.0000   \n",
       "14639  569587140490866689           neutral                        0.6771   \n",
       "\n",
       "               negativereason  negativereason_confidence         airline  \\\n",
       "0                         NaN                        NaN  Virgin America   \n",
       "1                         NaN                     0.0000  Virgin America   \n",
       "2                         NaN                        NaN  Virgin America   \n",
       "3                  Bad Flight                     0.7033  Virgin America   \n",
       "4                  Can't Tell                     1.0000  Virgin America   \n",
       "...                       ...                        ...             ...   \n",
       "14635                     NaN                     0.0000        American   \n",
       "14636  Customer Service Issue                     1.0000        American   \n",
       "14637                     NaN                        NaN        American   \n",
       "14638  Customer Service Issue                     0.6659        American   \n",
       "14639                     NaN                     0.0000        American   \n",
       "\n",
       "      airline_sentiment_gold             name negativereason_gold  \\\n",
       "0                        NaN          cairdin                 NaN   \n",
       "1                        NaN         jnardino                 NaN   \n",
       "2                        NaN       yvonnalynn                 NaN   \n",
       "3                        NaN         jnardino                 NaN   \n",
       "4                        NaN         jnardino                 NaN   \n",
       "...                      ...              ...                 ...   \n",
       "14635                    NaN  KristenReenders                 NaN   \n",
       "14636                    NaN         itsropes                 NaN   \n",
       "14637                    NaN         sanyabun                 NaN   \n",
       "14638                    NaN       SraJackson                 NaN   \n",
       "14639                    NaN        daviddtwu                 NaN   \n",
       "\n",
       "       retweet_count                                               text  \\\n",
       "0                  0                @VirginAmerica What @dhepburn said.   \n",
       "1                  0  @VirginAmerica plus you've added commercials t...   \n",
       "2                  0  @VirginAmerica I didn't today... Must mean I n...   \n",
       "3                  0  @VirginAmerica it's really aggressive to blast...   \n",
       "4                  0  @VirginAmerica and it's a really big bad thing...   \n",
       "...              ...                                                ...   \n",
       "14635              0  @AmericanAir thank you we got on a different f...   \n",
       "14636              0  @AmericanAir leaving over 20 minutes Late Flig...   \n",
       "14637              0  @AmericanAir Please bring American Airlines to...   \n",
       "14638              0  @AmericanAir you have my money, you change my ...   \n",
       "14639              0  @AmericanAir we have 8 ppl so we need 2 know h...   \n",
       "\n",
       "      tweet_coord              tweet_created tweet_location  \\\n",
       "0             NaN  2015-02-24 11:35:52 -0800            NaN   \n",
       "1             NaN  2015-02-24 11:15:59 -0800            NaN   \n",
       "2             NaN  2015-02-24 11:15:48 -0800      Lets Play   \n",
       "3             NaN  2015-02-24 11:15:36 -0800            NaN   \n",
       "4             NaN  2015-02-24 11:14:45 -0800            NaN   \n",
       "...           ...                        ...            ...   \n",
       "14635         NaN  2015-02-22 12:01:01 -0800            NaN   \n",
       "14636         NaN  2015-02-22 11:59:46 -0800          Texas   \n",
       "14637         NaN  2015-02-22 11:59:15 -0800  Nigeria,lagos   \n",
       "14638         NaN  2015-02-22 11:59:02 -0800     New Jersey   \n",
       "14639         NaN  2015-02-22 11:58:51 -0800     dallas, TX   \n",
       "\n",
       "                    user_timezone  \n",
       "0      Eastern Time (US & Canada)  \n",
       "1      Pacific Time (US & Canada)  \n",
       "2      Central Time (US & Canada)  \n",
       "3      Pacific Time (US & Canada)  \n",
       "4      Pacific Time (US & Canada)  \n",
       "...                           ...  \n",
       "14635                         NaN  \n",
       "14636                         NaN  \n",
       "14637                         NaN  \n",
       "14638  Eastern Time (US & Canada)  \n",
       "14639                         NaN  \n",
       "\n",
       "[14640 rows x 15 columns]>"
      ]
     },
     "execution_count": 4,
     "metadata": {},
     "output_type": "execute_result"
    }
   ],
   "execution_count": 4
  },
  {
   "metadata": {
    "ExecuteTime": {
     "end_time": "2025-07-15T05:23:34.027991Z",
     "start_time": "2025-07-15T05:23:34.012434Z"
    }
   },
   "cell_type": "code",
   "source": "df.describe()",
   "id": "7310d263371080ce",
   "outputs": [
    {
     "data": {
      "text/plain": [
       "           tweet_id  airline_sentiment_confidence  negativereason_confidence  \\\n",
       "count  1.464000e+04                  14640.000000               10522.000000   \n",
       "mean   5.692184e+17                      0.900169                   0.638298   \n",
       "std    7.791112e+14                      0.162830                   0.330440   \n",
       "min    5.675883e+17                      0.335000                   0.000000   \n",
       "25%    5.685592e+17                      0.692300                   0.360600   \n",
       "50%    5.694779e+17                      1.000000                   0.670600   \n",
       "75%    5.698905e+17                      1.000000                   1.000000   \n",
       "max    5.703106e+17                      1.000000                   1.000000   \n",
       "\n",
       "       retweet_count  \n",
       "count   14640.000000  \n",
       "mean        0.082650  \n",
       "std         0.745778  \n",
       "min         0.000000  \n",
       "25%         0.000000  \n",
       "50%         0.000000  \n",
       "75%         0.000000  \n",
       "max        44.000000  "
      ],
      "text/html": [
       "<div>\n",
       "<style scoped>\n",
       "    .dataframe tbody tr th:only-of-type {\n",
       "        vertical-align: middle;\n",
       "    }\n",
       "\n",
       "    .dataframe tbody tr th {\n",
       "        vertical-align: top;\n",
       "    }\n",
       "\n",
       "    .dataframe thead th {\n",
       "        text-align: right;\n",
       "    }\n",
       "</style>\n",
       "<table border=\"1\" class=\"dataframe\">\n",
       "  <thead>\n",
       "    <tr style=\"text-align: right;\">\n",
       "      <th></th>\n",
       "      <th>tweet_id</th>\n",
       "      <th>airline_sentiment_confidence</th>\n",
       "      <th>negativereason_confidence</th>\n",
       "      <th>retweet_count</th>\n",
       "    </tr>\n",
       "  </thead>\n",
       "  <tbody>\n",
       "    <tr>\n",
       "      <th>count</th>\n",
       "      <td>1.464000e+04</td>\n",
       "      <td>14640.000000</td>\n",
       "      <td>10522.000000</td>\n",
       "      <td>14640.000000</td>\n",
       "    </tr>\n",
       "    <tr>\n",
       "      <th>mean</th>\n",
       "      <td>5.692184e+17</td>\n",
       "      <td>0.900169</td>\n",
       "      <td>0.638298</td>\n",
       "      <td>0.082650</td>\n",
       "    </tr>\n",
       "    <tr>\n",
       "      <th>std</th>\n",
       "      <td>7.791112e+14</td>\n",
       "      <td>0.162830</td>\n",
       "      <td>0.330440</td>\n",
       "      <td>0.745778</td>\n",
       "    </tr>\n",
       "    <tr>\n",
       "      <th>min</th>\n",
       "      <td>5.675883e+17</td>\n",
       "      <td>0.335000</td>\n",
       "      <td>0.000000</td>\n",
       "      <td>0.000000</td>\n",
       "    </tr>\n",
       "    <tr>\n",
       "      <th>25%</th>\n",
       "      <td>5.685592e+17</td>\n",
       "      <td>0.692300</td>\n",
       "      <td>0.360600</td>\n",
       "      <td>0.000000</td>\n",
       "    </tr>\n",
       "    <tr>\n",
       "      <th>50%</th>\n",
       "      <td>5.694779e+17</td>\n",
       "      <td>1.000000</td>\n",
       "      <td>0.670600</td>\n",
       "      <td>0.000000</td>\n",
       "    </tr>\n",
       "    <tr>\n",
       "      <th>75%</th>\n",
       "      <td>5.698905e+17</td>\n",
       "      <td>1.000000</td>\n",
       "      <td>1.000000</td>\n",
       "      <td>0.000000</td>\n",
       "    </tr>\n",
       "    <tr>\n",
       "      <th>max</th>\n",
       "      <td>5.703106e+17</td>\n",
       "      <td>1.000000</td>\n",
       "      <td>1.000000</td>\n",
       "      <td>44.000000</td>\n",
       "    </tr>\n",
       "  </tbody>\n",
       "</table>\n",
       "</div>"
      ]
     },
     "execution_count": 5,
     "metadata": {},
     "output_type": "execute_result"
    }
   ],
   "execution_count": 5
  },
  {
   "metadata": {
    "ExecuteTime": {
     "end_time": "2025-07-15T05:23:38.494783Z",
     "start_time": "2025-07-15T05:23:38.484794Z"
    }
   },
   "cell_type": "code",
   "source": "df.isnull().sum()",
   "id": "4522f8d446e130d2",
   "outputs": [
    {
     "data": {
      "text/plain": [
       "tweet_id                            0\n",
       "airline_sentiment                   0\n",
       "airline_sentiment_confidence        0\n",
       "negativereason                   5462\n",
       "negativereason_confidence        4118\n",
       "airline                             0\n",
       "airline_sentiment_gold          14600\n",
       "name                                0\n",
       "negativereason_gold             14608\n",
       "retweet_count                       0\n",
       "text                                0\n",
       "tweet_coord                     13621\n",
       "tweet_created                       0\n",
       "tweet_location                   4733\n",
       "user_timezone                    4820\n",
       "dtype: int64"
      ]
     },
     "execution_count": 6,
     "metadata": {},
     "output_type": "execute_result"
    }
   ],
   "execution_count": 6
  },
  {
   "metadata": {},
   "cell_type": "markdown",
   "source": "## Cleaning of Data from the Dataset",
   "id": "5a7da48a81c11530"
  },
  {
   "metadata": {
    "ExecuteTime": {
     "end_time": "2025-07-15T05:23:39.866530Z",
     "start_time": "2025-07-15T05:23:39.841463Z"
    }
   },
   "cell_type": "code",
   "source": [
    "df['airline'] = df['airline'].fillna(df['airline'].mode(0))\n",
    "df['text'] = df['text'].fillna(df['text'].mode(0))"
   ],
   "id": "1c16c1bb4624cf26",
   "outputs": [],
   "execution_count": 7
  },
  {
   "metadata": {},
   "cell_type": "markdown",
   "source": "## Removal of Special terms in Dataset",
   "id": "8f901e7727637d1b"
  },
  {
   "metadata": {
    "ExecuteTime": {
     "end_time": "2025-07-15T08:21:00.870022Z",
     "start_time": "2025-07-15T08:21:00.866088Z"
    }
   },
   "cell_type": "code",
   "source": [
    "import re\n",
    "import nltk\n",
    "from nltk.corpus import stopwords\n",
    "from nltk.stem import WordNetLemmatizer\n",
    "\n",
    "# example cleaning function\n",
    "def clean_text(text):\n",
    "    text = re.sub(r\"http\\S+|@\\S+|#\\S+\", \"\", text)  # remove links, mentions, hashtags\n",
    "    text = re.sub(r\"\\W+\", \" \", text.lower())  # remove special characters\n",
    "    return text"
   ],
   "id": "a6d77483ce900078",
   "outputs": [],
   "execution_count": 42
  },
  {
   "metadata": {},
   "cell_type": "markdown",
   "source": "## TfidfVectorizer : Converts text data into numerical features using the TF-IDF method (Term Frequency-Inverse Document Frequency).",
   "id": "3dfc8b835e0266f0"
  },
  {
   "metadata": {
    "ExecuteTime": {
     "end_time": "2025-07-15T08:21:01.689348Z",
     "start_time": "2025-07-15T08:21:01.510333Z"
    }
   },
   "cell_type": "code",
   "source": [
    "from sklearn.feature_extraction.text import TfidfVectorizer\n",
    "tfidf = TfidfVectorizer(stop_words='english', max_features=5000)\n",
    "X_text = tfidf.fit_transform(df['text'])"
   ],
   "id": "7c1250ba17bb15ae",
   "outputs": [],
   "execution_count": 43
  },
  {
   "metadata": {},
   "cell_type": "markdown",
   "source": "## Standard Scale:Similar Scalling of Features",
   "id": "2482d635fd359edb"
  },
  {
   "metadata": {
    "ExecuteTime": {
     "end_time": "2025-07-15T08:21:02.208958Z",
     "start_time": "2025-07-15T08:21:02.179093Z"
    }
   },
   "cell_type": "code",
   "source": [
    "from sklearn.preprocessing import StandardScaler\n",
    "scaler = StandardScaler()\n",
    "X_retweets = scaler.fit_transform(df[['retweet_count']])\n",
    "# Step 2: Prepare retweets (must be reshaped for stacking)\n",
    "X_retweets = df['retweet_count'].values.reshape(-1, 1)"
   ],
   "id": "7526498a4593b50b",
   "outputs": [],
   "execution_count": 44
  },
  {
   "metadata": {},
   "cell_type": "markdown",
   "source": "## Use of LabelEncoder to Give specific Labels of text value of Column Airline",
   "id": "2d4aca4f40375c63"
  },
  {
   "metadata": {
    "ExecuteTime": {
     "end_time": "2025-07-15T08:21:02.879849Z",
     "start_time": "2025-07-15T08:21:02.865805Z"
    }
   },
   "cell_type": "code",
   "source": [
    "from sklearn.preprocessing import LabelEncoder\n",
    "from scipy.sparse import csr_matrix\n",
    "\n",
    "le = LabelEncoder()\n",
    "df['airline'] = le.fit_transform(df['airline'])\n",
    "\n",
    "X_airline_sparse = csr_matrix(df['airline'].values.reshape(-1, 1))"
   ],
   "id": "dbcf3338178d6ccc",
   "outputs": [],
   "execution_count": 45
  },
  {
   "metadata": {},
   "cell_type": "markdown",
   "source": "## Test and Train Split With Combinations of Features",
   "id": "199172cc2aad4b2d"
  },
  {
   "metadata": {
    "ExecuteTime": {
     "end_time": "2025-07-15T08:21:03.525308Z",
     "start_time": "2025-07-15T08:21:03.507027Z"
    }
   },
   "cell_type": "code",
   "source": [
    "from sklearn.model_selection import train_test_split\n",
    "from scipy.sparse import hstack\n",
    "import numpy as np\n",
    "\n",
    "\n",
    "\n",
    "# Step 3: Combine all features into a sparse matrix\n",
    "X_final = hstack([X_text, X_airline_sparse, X_retweets])\n",
    "\n",
    "# Step 4: Train/Test Split\n",
    "X_train, X_test = train_test_split(X_final, test_size=0.2, random_state=42)"
   ],
   "id": "e0e392421c4e6003",
   "outputs": [],
   "execution_count": 46
  },
  {
   "metadata": {
    "ExecuteTime": {
     "end_time": "2025-07-15T08:21:04.319193Z",
     "start_time": "2025-07-15T08:21:04.313834Z"
    }
   },
   "cell_type": "code",
   "source": "X_final.shape",
   "id": "2a0ce04cfe247511",
   "outputs": [
    {
     "data": {
      "text/plain": [
       "(14640, 5002)"
      ]
     },
     "execution_count": 47,
     "metadata": {},
     "output_type": "execute_result"
    }
   ],
   "execution_count": 47
  },
  {
   "metadata": {},
   "cell_type": "markdown",
   "source": [
    "## Algorithms Used\n",
    "This project doesn't rely on a single algorithm — it takes a professional approach by applying and comparing three different unsupervised clustering techniques:\n",
    "| Algorithm                                        | Purpose / Strength                                             |\n",
    "| ------------------------------------------------ | -------------------------------------------------------------- |\n",
    "| 🔹 **KMeans Clustering**                         | Fast and effective for spherical clusters                      |\n",
    "| 🔸 **Hierarchical Clustering (Agglomerative)**   | Useful for visualizing nested structure (dendrograms)          |\n",
    "| 🔻 **DBSCAN (Density-Based Spatial Clustering)** | Best for irregular, non-spherical clusters and noise detection |\n"
   ],
   "id": "2456994dfddef602"
  },
  {
   "metadata": {},
   "cell_type": "markdown",
   "source": "## Mannual way to find value of k",
   "id": "8051767b9ed6ce75"
  },
  {
   "metadata": {
    "ExecuteTime": {
     "end_time": "2025-07-15T08:21:07.511409Z",
     "start_time": "2025-07-15T08:21:05.569475Z"
    }
   },
   "cell_type": "code",
   "source": [
    "from sklearn.cluster import KMeans\n",
    "import matplotlib.pyplot as plt\n",
    "cs = []\n",
    "for i in range(1, 11):\n",
    "    kmeans = KMeans(n_clusters = i, init = 'k-means++', max_iter = 300, n_init = 10, random_state = 0)\n",
    "    kmeans.fit(X_final)\n",
    "    cs.append(kmeans.inertia_)\n",
    "plt.plot(range(1, 11), cs)\n",
    "plt.title('The Elbow Method')\n",
    "plt.xlabel('Number of clusters')\n",
    "plt.ylabel('CS')\n",
    "plt.show()"
   ],
   "id": "b81e17a809be547b",
   "outputs": [
    {
     "data": {
      "text/plain": [
       "<Figure size 640x480 with 1 Axes>"
      ],
      "image/png": "[encoded data removed]"
     },
     "metadata": {},
     "output_type": "display_data"
    }
   ],
   "execution_count": 48
  },
  {
   "metadata": {},
   "cell_type": "markdown",
   "source": " ## Applying DBSCAN(density based-Clustering) Model",
   "id": "f428bc70d2a93e1c"
  },
  {
   "metadata": {
    "ExecuteTime": {
     "end_time": "2025-07-15T10:37:39.077916Z",
     "start_time": "2025-07-15T10:37:39.073849Z"
    }
   },
   "cell_type": "code",
   "source": [
    "from sklearn.cluster import DBSCAN\n",
    "ROOT  = DBSCAN(eps=0.5)"
   ],
   "id": "e525900a1eb2f5a5",
   "outputs": [],
   "execution_count": 70
  },
  {
   "metadata": {
    "ExecuteTime": {
     "end_time": "2025-07-15T10:37:51.159382Z",
     "start_time": "2025-07-15T10:37:39.678084Z"
    }
   },
   "cell_type": "code",
   "source": [
    "from sklearn.decomposition import PCA\n",
    "\n",
    "X_dense = X_final.toarray()\n",
    "labels = ROOT.fit_predict(X_dense)\n",
    "\n",
    "pca = PCA(n_components = 2)\n",
    "X_pca = pca.fit_transform(X_dense)\n",
    "plt.scatter(X_pca[:, 0], X_pca[:, 1], c=labels)\n",
    "plt.title(\"DBSCAN Clustering\")\n",
    "plt.xlabel('Component 1')\n",
    "plt.show()"
   ],
   "id": "9422e147a8f42e42",
   "outputs": [
    {
     "data": {
      "text/plain": [
       "<Figure size 640x480 with 1 Axes>"
      ],
      "image/png": "[encoded data removed]"
     },
     "metadata": {},
     "output_type": "display_data"
    }
   ],
   "execution_count": 71
  },
  {
   "metadata": {},
   "cell_type": "markdown",
   "source": "## Silhouette score",
   "id": "2f8d87f118f6e4d8"
  },
  {
   "metadata": {
    "ExecuteTime": {
     "end_time": "2025-07-15T10:39:32.552432Z",
     "start_time": "2025-07-15T10:39:21.124595Z"
    }
   },
   "cell_type": "code",
   "source": [
    "from sklearn.metrics import silhouette_score\n",
    "score = silhouette_score(X_dense, labels)\n",
    "print(score)"
   ],
   "id": "d6f0f3205630f4ae",
   "outputs": [
    {
     "name": "stdout",
     "output_type": "stream",
     "text": [
      "-0.4329103276235422\n"
     ]
    }
   ],
   "execution_count": 72
  },
  {
   "metadata": {},
   "cell_type": "markdown",
   "source": [
    "## Hierarchical Clustering:\n",
    " Agglomerative clustering\n"
   ],
   "id": "d4ba0b867f1a377a"
  },
  {
   "metadata": {
    "ExecuteTime": {
     "end_time": "2025-07-15T08:21:09.948148Z",
     "start_time": "2025-07-15T08:21:09.944767Z"
    }
   },
   "cell_type": "code",
   "source": [
    "from sklearn.cluster import AgglomerativeClustering\n",
    "ag = AgglomerativeClustering(n_clusters=2)"
   ],
   "id": "e01ba00b30ebe380",
   "outputs": [],
   "execution_count": 49
  },
  {
   "metadata": {
    "ExecuteTime": {
     "end_time": "2025-07-15T08:25:09.928431Z",
     "start_time": "2025-07-15T08:21:11.145743Z"
    }
   },
   "cell_type": "code",
   "source": [
    "from sklearn.decomposition import PCA\n",
    "\n",
    "X_dense  = X_final.toarray()\n",
    "\n",
    "ag_labels = ag.fit_predict(X_dense)\n",
    "\n",
    "pca = PCA(n_components = 2)\n",
    "X_pca = pca.fit_transform(X_dense)\n",
    "\n",
    "plt.scatter(X_pca[:, 0], X_pca[:, 1], c = ag.labels_)\n",
    "plt.title(\"Agglomerative Clustering\")\n",
    "plt.xlabel('Principal Component 1')\n",
    "plt.show()"
   ],
   "id": "8da0ca0b9fe146eb",
   "outputs": [
    {
     "data": {
      "text/plain": [
       "<Figure size 640x480 with 1 Axes>"
      ],
      "image/png": "[encoded data removed]"
     },
     "metadata": {},
     "output_type": "display_data"
    }
   ],
   "execution_count": 50
  },
  {
   "metadata": {},
   "cell_type": "markdown",
   "source": "## Silhouette Score Measures:",
   "id": "69466d05089000e5"
  },
  {
   "metadata": {
    "ExecuteTime": {
     "end_time": "2025-07-15T08:32:52.564463Z",
     "start_time": "2025-07-15T08:29:31.551426Z"
    }
   },
   "cell_type": "code",
   "source": [
    "from sklearn.metrics import accuracy_score\n",
    "from scipy.stats import mode\n",
    "import numpy as np\n",
    "from sklearn.preprocessing import LabelEncoder\n",
    "from sklearn.metrics import silhouette_score\n",
    "\n",
    "# Step 1: True labels (must be encoded to integers first`)\n",
    "from sklearn.preprocessing import LabelEncoder\n",
    "le = LabelEncoder()\n",
    "y = le.fit_transform(df['airline_sentiment'])\n",
    "\n",
    "# Step 2: Predict clusters\n",
    "ag = AgglomerativeClustering(n_clusters=2)\n",
    "ag_labels = ag.fit_predict(X_dense)\n"
   ],
   "id": "213dea2b2ff65451",
   "outputs": [],
   "execution_count": 52
  },
  {
   "metadata": {
    "ExecuteTime": {
     "end_time": "2025-07-15T08:32:56.289166Z",
     "start_time": "2025-07-15T08:32:52.602159Z"
    }
   },
   "cell_type": "code",
   "source": "score = silhouette_score(X_final , ag_labels, metric='euclidean', sample_size=None, random_state=0)",
   "id": "d2ff3a8c20c1ae4b",
   "outputs": [],
   "execution_count": 53
  },
  {
   "metadata": {
    "ExecuteTime": {
     "end_time": "2025-07-15T08:33:29.240482Z",
     "start_time": "2025-07-15T08:33:29.235232Z"
    }
   },
   "cell_type": "code",
   "source": "score",
   "id": "3506294342f048fc",
   "outputs": [
    {
     "data": {
      "text/plain": [
       "np.float64(0.40903157205473173)"
      ]
     },
     "execution_count": 54,
     "metadata": {},
     "output_type": "execute_result"
    }
   ],
   "execution_count": 54
  },
  {
   "metadata": {},
   "cell_type": "markdown",
   "source": "## Finding Value of K for Kmean Cluster",
   "id": "467b20374a038312"
  },
  {
   "metadata": {
    "ExecuteTime": {
     "end_time": "2025-07-15T08:34:14.378666Z",
     "start_time": "2025-07-15T08:34:14.366228Z"
    }
   },
   "cell_type": "code",
   "source": [
    "from kneed import KneeLocator\n",
    "kl = KneeLocator( range(1,11) , cs  ,curve='convex' , direction = 'decreasing')\n",
    "kl.elbow"
   ],
   "id": "642a97f0a717300e",
   "outputs": [
    {
     "data": {
      "text/plain": [
       "np.int64(4)"
      ]
     },
     "execution_count": 56,
     "metadata": {},
     "output_type": "execute_result"
    }
   ],
   "execution_count": 56
  },
  {
   "metadata": {},
   "cell_type": "markdown",
   "source": [
    "| Method         | Suggests | Based On               | Why the Conflict?                                              |\n",
    "| -------------- | -------- | ---------------------- | -------------------------------------------------------------- |\n",
    "| **Elbow**      | K = 4    | Inertia (compactness)  | More clusters = lower inertia — not always meaningful clusters |\n",
    "| **Silhouette** | K = 2    | Separation & tightness | Fewer clusters = more distinct boundaries                      |\n"
   ],
   "id": "703ec065852538c7"
  },
  {
   "metadata": {},
   "cell_type": "markdown",
   "source": "## KMean clustering",
   "id": "96b7107dca66581f"
  },
  {
   "metadata": {
    "ExecuteTime": {
     "end_time": "2025-07-15T08:34:18.519467Z",
     "start_time": "2025-07-15T08:34:18.450982Z"
    }
   },
   "cell_type": "code",
   "source": [
    "from sklearn.cluster import KMeans\n",
    "\n",
    "kmeans = KMeans(n_clusters=2,init='k-means++', max_iter=300, n_init=10,random_state=23)\n",
    "labels = kmeans.fit_predict(X_final)\n"
   ],
   "id": "5040862563a4deff",
   "outputs": [],
   "execution_count": 57
  },
  {
   "metadata": {
    "ExecuteTime": {
     "end_time": "2025-07-15T08:34:21.050814Z",
     "start_time": "2025-07-15T08:34:19.722427Z"
    }
   },
   "cell_type": "code",
   "source": [
    "from sklearn.decomposition import PCA\n",
    "import matplotlib.pyplot as plt\n",
    "\n",
    "X_dense = X_final.toarray()\n",
    "pca = PCA(n_components = 2)\n",
    "X_pca = pca.fit_transform(X_dense)\n",
    "\n",
    "plt.scatter(X_pca[:,0] , X_pca[:,1] , c= labels , cmap = 'rainbow')\n",
    "plt.title('KMeans Clusters (PCA 2D)')\n",
    "plt.xlabel('PC1')\n",
    "plt.ylabel('PC2')\n",
    "plt.show()"
   ],
   "id": "3228ce1b9d90a4fa",
   "outputs": [
    {
     "data": {
      "text/plain": [
       "<Figure size 640x480 with 1 Axes>"
      ],
      "image/png": "[encoded data removed]"
     },
     "metadata": {},
     "output_type": "display_data"
    }
   ],
   "execution_count": 58
  },
  {
   "metadata": {},
   "cell_type": "markdown",
   "source": "## Cluster Centers",
   "id": "a398dfc7878aaeeb"
  },
  {
   "metadata": {
    "ExecuteTime": {
     "end_time": "2025-07-15T08:34:22.735209Z",
     "start_time": "2025-07-15T08:34:22.729821Z"
    }
   },
   "cell_type": "code",
   "source": "kmeans.cluster_centers_",
   "id": "8fd6479a3b3d57fe",
   "outputs": [
    {
     "data": {
      "text/plain": [
       "array([[4.49892267e-04, 6.11262985e-04, 0.00000000e+00, ...,\n",
       "        1.07520956e-04, 9.54195379e-01, 6.94500743e-02],\n",
       "       [2.26749573e-04, 8.77143610e-04, 1.26363981e-04, ...,\n",
       "        1.52290271e-04, 3.66721923e+00, 9.61458765e-02]], shape=(2, 5002))"
      ]
     },
     "execution_count": 59,
     "metadata": {},
     "output_type": "execute_result"
    }
   ],
   "execution_count": 59
  },
  {
   "metadata": {
    "ExecuteTime": {
     "end_time": "2025-07-15T08:34:25.821422Z",
     "start_time": "2025-07-15T08:34:25.816671Z"
    }
   },
   "cell_type": "code",
   "source": "kmeans.inertia_",
   "id": "ece2f42fb1e3e23f",
   "outputs": [
    {
     "data": {
      "text/plain": [
       "30237.370567257152"
      ]
     },
     "execution_count": 60,
     "metadata": {},
     "output_type": "execute_result"
    }
   ],
   "execution_count": 60
  },
  {
   "metadata": {},
   "cell_type": "markdown",
   "source": "## Testing of data",
   "id": "b162720c05119900"
  },
  {
   "metadata": {
    "ExecuteTime": {
     "end_time": "2025-07-15T08:34:26.546766Z",
     "start_time": "2025-07-15T08:34:26.213155Z"
    }
   },
   "cell_type": "code",
   "source": [
    "from sklearn.decomposition import PCA\n",
    "import matplotlib.pyplot as plt\n",
    "\n",
    "# Fit KMeans on training data\n",
    "kmeans = KMeans(n_clusters=2, random_state=0)\n",
    "kmeans.fit(X_test)\n",
    "test_labels = kmeans.predict(X_test)\n",
    "\n",
    "\n",
    "X_test_dense = X_test.toarray()\n",
    "pca = PCA(n_components = 2)\n",
    "X_pca = pca.fit_transform(X_test_dense)\n",
    "\n",
    "plt.scatter(X_pca[:,0] , X_pca[:,1] , c= test_labels , cmap = 'rainbow')\n",
    "plt.title(\"KMeans Clusters on Test Set (PCA reduced)\")\n",
    "plt.xlabel(\"PCA Component 1\")\n",
    "plt.ylabel(\"PCA Component 2\")\n",
    "plt.colorbar(label=\"Cluster Label\")\n",
    "plt.show()\n"
   ],
   "id": "14aabde4ec94745b",
   "outputs": [
    {
     "data": {
      "text/plain": [
       "<Figure size 640x480 with 2 Axes>"
      ],
      "image/png": "[encoded data removed]"
     },
     "metadata": {},
     "output_type": "display_data"
    }
   ],
   "execution_count": 61
  },
  {
   "metadata": {},
   "cell_type": "markdown",
   "source": "## Training of model",
   "id": "4a85a0fd18fb2956"
  },
  {
   "metadata": {
    "ExecuteTime": {
     "end_time": "2025-07-15T08:34:29.456082Z",
     "start_time": "2025-07-15T08:34:28.346109Z"
    }
   },
   "cell_type": "code",
   "source": [
    "kmeans.fit(X_train)\n",
    "\n",
    "# Predict clusters on test data\n",
    "w_labels = kmeans.predict(X_train)\n",
    "\n",
    "# Reduce X_test for visualization using PCA\n",
    "X_train_dense = X_train.toarray()  # Convert sparse matrix to dense\n",
    "X_train_pca = PCA(n_components=2).fit_transform(X_train_dense)\n",
    "\n",
    "# Plot the test data with cluster labels\n",
    "plt.figure(figsize=(8, 6))\n",
    "plt.scatter(X_train_pca[:, 0], X_train_pca[:, 1], c=w_labels, cmap='viridis')\n",
    "plt.title(\"KMeans Clusters on Test Set (PCA reduced)\")\n",
    "plt.xlabel(\"PCA Component 1\")\n",
    "plt.ylabel(\"PCA Component 2\")\n",
    "plt.colorbar(label=\"Cluster Label\")\n",
    "plt.show()\n"
   ],
   "id": "89dd5ee99d453824",
   "outputs": [
    {
     "data": {
      "text/plain": [
       "<Figure size 800x600 with 2 Axes>"
      ],
      "image/png": "[encoded data removed]"
     },
     "metadata": {},
     "output_type": "display_data"
    }
   ],
   "execution_count": 62
  },
  {
   "metadata": {},
   "cell_type": "markdown",
   "source": "## Checking Silhouette score",
   "id": "f0366753b7fb6519"
  },
  {
   "metadata": {
    "ExecuteTime": {
     "end_time": "2025-07-15T08:34:50.136438Z",
     "start_time": "2025-07-15T08:34:46.508483Z"
    }
   },
   "cell_type": "code",
   "source": [
    "from sklearn.metrics import silhouette_score\n",
    "score = silhouette_score(X_final , labels, metric='euclidean', sample_size=None, random_state=0)"
   ],
   "id": "e3d600610e575cd3",
   "outputs": [],
   "execution_count": 65
  },
  {
   "metadata": {
    "ExecuteTime": {
     "end_time": "2025-07-15T08:34:50.167399Z",
     "start_time": "2025-07-15T08:34:50.162462Z"
    }
   },
   "cell_type": "code",
   "source": "score",
   "id": "18160b4771b1633f",
   "outputs": [
    {
     "data": {
      "text/plain": [
       "np.float64(0.4151949046045152)"
      ]
     },
     "execution_count": 66,
     "metadata": {},
     "output_type": "execute_result"
    }
   ],
   "execution_count": 66
  },
  {
   "metadata": {},
   "cell_type": "markdown",
   "source": [
    "## 1️⃣ What Elbow Method Measures:\n",
    "It looks at inertia (within-cluster sum of squares) — i.e., how compact the clusters are.\n",
    "\n",
    "Elbow/knee is the point where adding more clusters doesn’t significantly reduce inertia.\n",
    "\n",
    "So, it finds the “efficient” number of clusters based on distance minimization — not separation quality.\n",
    "\n",
    "## 2️⃣ What Silhouette Score Measures:\n",
    "It looks at how well-separated and tight the clusters are.\n",
    "\n",
    "It compares:\n",
    "\n",
    "Distance of a point to its own cluster center (a)\n",
    "\n",
    "Distance to the nearest other cluster (b)\n",
    "\n",
    "Higher silhouette = better separation and compactness"
   ],
   "id": "80ff602748cdb211"
  },
  {
   "metadata": {
    "ExecuteTime": {
     "end_time": "2025-07-15T08:35:30.995927Z",
     "start_time": "2025-07-15T08:34:52.682369Z"
    }
   },
   "cell_type": "code",
   "source": [
    "for k in range(2, 11):\n",
    "    kmeans = KMeans(n_clusters=k, random_state=0)\n",
    "    labels = kmeans.fit_predict(X_final)\n",
    "    score = silhouette_score(X_final, labels)\n",
    "    print(f\"K={k} → Silhouette Score = {score:.3f}\")\n"
   ],
   "id": "6bbaed84529bbc65",
   "outputs": [
    {
     "name": "stdout",
     "output_type": "stream",
     "text": [
      "K=2 → Silhouette Score = 0.415\n",
      "K=3 → Silhouette Score = 0.249\n",
      "K=4 → Silhouette Score = 0.214\n",
      "K=5 → Silhouette Score = 0.215\n",
      "K=6 → Silhouette Score = 0.188\n",
      "K=7 → Silhouette Score = 0.190\n",
      "K=8 → Silhouette Score = 0.192\n",
      "K=9 → Silhouette Score = 0.141\n",
      "K=10 → Silhouette Score = 0.150\n"
     ]
    }
   ],
   "execution_count": 67
  },
  {
   "metadata": {},
   "cell_type": "markdown",
   "source": "## Tech Stack:",
   "id": "b88a0f7e9d9ad3cb"
  },
  {
   "metadata": {},
   "cell_type": "markdown",
   "source": [
    "| Task                     | Tools Used                                    |\n",
    "| ------------------------ | --------------------------------------------- |\n",
    "| Language                 | Python                                        |\n",
    "| Data Handling            | `pandas`, `numpy`                             |\n",
    "| Text Processing          | `nltk`, `re`, `TF-IDF`                        |\n",
    "| Clustering Algorithms    | `KMeans`, `AgglomerativeClustering`, `DBSCAN` |\n",
    "| Dimensionality Reduction | `PCA`                                         |\n",
    "| Evaluation Metrics       | `Silhouette Score`, `Inertia`, `Elbow`        |\n",
    "| Visualization            | `matplotlib`, `seaborn`                       |\n"
   ],
   "id": "ce65ba404873502"
  },
  {
   "metadata": {},
   "cell_type": "markdown",
   "source": [
    "## 📊 Results Summary:\n",
    "\n",
    "- **Best Silhouette Score:** Achieved with **K=2 in KMeans**: `0.415`\n",
    "- **Agglomerative Clustering Score:** ~`0.409`\n",
    "- **DBSCAN:** Tested with tuned `eps` and `min_samples` — useful for non-spherical clusters, but silhouette score was **-0.432**\n",
    "- **Elbow Method** suggested **K=4**, but **Silhouette Score** revealed better structure at **K=2**\n",
    "- ✅ All results are visualized using **PCA-based scatter plots** for better interpretation\n",
    "\n"
   ],
   "id": "4cd1d2a811fa47f8"
  }
 ],
 "metadata": {
  "kernelspec": {
   "display_name": "Python 3",
   "language": "python",
   "name": "python3"
  },
  "language_info": {
   "codemirror_mode": {
    "name": "ipython",
    "version": 2
   },
   "file_extension": ".py",
   "mimetype": "text/x-python",
   "name": "python",
   "nbconvert_exporter": "python",
   "pygments_lexer": "ipython2",
   "version": "2.7.6"
  }
 },
 "nbformat": 4,
 "nbformat_minor": 5
}
